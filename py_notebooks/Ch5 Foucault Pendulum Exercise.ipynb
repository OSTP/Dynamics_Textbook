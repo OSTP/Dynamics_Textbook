{
 "cells": [
  {
   "cell_type": "markdown",
   "id": "8e99a80f",
   "metadata": {},
   "source": [
    "Knowing that the period of rotation of a Foucault pendulum is dependent on its latitude by the given formula:\n",
    "$$T = \\frac{24 hours}{\\sin(\\theta)}$$\n",
    "where $\\theta$ is the number of degrees north or south of the equator, plot the period vs latitude. Discuss the shape of the graph."
   ]
  },
  {
   "cell_type": "code",
   "execution_count": null,
   "id": "0d60fa5b",
   "metadata": {},
   "outputs": [],
   "source": []
  }
 ],
 "metadata": {
  "kernelspec": {
   "display_name": "Python 3 (ipykernel)",
   "language": "python",
   "name": "python3"
  },
  "language_info": {
   "codemirror_mode": {
    "name": "ipython",
    "version": 3
   },
   "file_extension": ".py",
   "mimetype": "text/x-python",
   "name": "python",
   "nbconvert_exporter": "python",
   "pygments_lexer": "ipython3",
   "version": "3.9.12"
  }
 },
 "nbformat": 4,
 "nbformat_minor": 5
}
