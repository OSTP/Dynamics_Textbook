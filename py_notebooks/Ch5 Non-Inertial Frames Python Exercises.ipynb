{
 "cells": [
  {
   "cell_type": "markdown",
   "id": "8e99a80f",
   "metadata": {},
   "source": [
    "NASA uses a centrifuge 8.84 m in diameter for astronaut training to simulate the high gravity conditions that may be experienced during launch and atmospheric re-entry.\n",
    "\n",
    "Find the relationship between angular velocity and centrifugal acceleration, plot $\\omega$ vs $a_{Cent}$ for values of $a_{Cent}$ from 1 to 5 gravities. Extend your plot to 20 g. What can you say about the shape of the curve?"
   ]
  },
  {
   "cell_type": "code",
   "execution_count": 1,
   "id": "1af76516",
   "metadata": {},
   "outputs": [],
   "source": [
    "import matplotlib.pyplot as plt              # for ease of use\n",
    "import numpy as np                           # for the needed math functions\n",
    "\n",
    "plt.rcParams['figure.figsize'] = 12.5,10     # default plot size"
   ]
  },
  {
   "cell_type": "code",
   "execution_count": null,
   "id": "f1caf4be",
   "metadata": {},
   "outputs": [],
   "source": []
  }
 ],
 "metadata": {
  "kernelspec": {
   "display_name": "Python 3 (ipykernel)",
   "language": "python",
   "name": "python3"
  },
  "language_info": {
   "codemirror_mode": {
    "name": "ipython",
    "version": 3
   },
   "file_extension": ".py",
   "mimetype": "text/x-python",
   "name": "python",
   "nbconvert_exporter": "python",
   "pygments_lexer": "ipython3",
   "version": "3.9.12"
  }
 },
 "nbformat": 4,
 "nbformat_minor": 5
}
