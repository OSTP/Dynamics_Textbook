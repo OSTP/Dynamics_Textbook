{
 "cells": [
  {
   "cell_type": "markdown",
   "id": "20a303ac",
   "metadata": {},
   "source": [
    "Plot the effective potential using $U(r) = -\\frac{m}{r^2}$ (Figures 10.3 and 10.4 in the textbook). \n"
   ]
  },
  {
   "cell_type": "code",
   "execution_count": 1,
   "id": "74ee661b",
   "metadata": {},
   "outputs": [],
   "source": [
    "# import needed functionality\n",
    "import numpy as np\n",
    "import matplotlib.pyplot as plt\n",
    "\n",
    "plt.rcParams['figure.figsize'] = 15,12    # larger plot size\n",
    "\n",
    "# define constants (these values are arbitrary)\n",
    "M, m = 1000000, 1\n"
   ]
  },
  {
   "cell_type": "markdown",
   "id": "0052663a",
   "metadata": {},
   "source": [
    "A particle of mass m and angular momentum of L experiences a central force that produces a potential of $U(r) = Ar^2$, \n",
    "where A is a positive constant. Plot the effective potential for this system. \n",
    "\n",
    "\n",
    "A particle of mass m and angular momentum L moves in central force field that produces a potential that can be described \n",
    "by $U(r) = −Ae^{−\\beta r^3}$ , where A and $\\beta$ are constants. Plot the effective potential. \n",
    "\n",
    "\n",
    "A particle of mass m and angular momentum of L experiences a central force that produces a potential of $U(r) = −Ar^3$ \n", 
    "where A is a positive constant. Plot the effective potential for this system. \n"
   ]
  },
  {
   "cell_type": "code",
   "execution_count": null,
   "id": "dd4ca638",
   "metadata": {},
   "outputs": [],
   "source": []
  }
 ],
 "metadata": {
  "kernelspec": {
   "display_name": "Python 3 (ipykernel)",
   "language": "python",
   "name": "python3"
  },
  "language_info": {
   "codemirror_mode": {
    "name": "ipython",
    "version": 3
   },
   "file_extension": ".py",
   "mimetype": "text/x-python",
   "name": "python",
   "nbconvert_exporter": "python",
   "pygments_lexer": "ipython3",
   "version": "3.9.12"
  }
 },
 "nbformat": 4,
 "nbformat_minor": 5
}
