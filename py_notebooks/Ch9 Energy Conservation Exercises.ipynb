{
 "cells": [
  {
   "cell_type": "markdown",
   "id": "8e99a80f",
   "metadata": {},
   "source": [
    "The restoring force in a simple mass-spring system is F = −kx. Find the equations for Potential and Kinetic energy. Plot them on the same axes for arbitrarily chosen values of k, m, and A, and for t = 0 to T (where T is the period of the spring) and plot their sum.  Comment.\n",
    "\n",
    "\\begin{eqnarray*}\n",
    "U = \\frac{1}{2}kx^2\\\\\n",
    "K = \\frac{1}{2}k\\dot{x}^2\\\\\n",
    "\\end{eqnarray*}\n",
    "\n",
    "And a reminder, for a spring mass system:\n",
    "\n",
    "\\begin{eqnarray*}\n",
    "x &=& A\\cos{(\\omega_0t)}\\\\\n",
    "\\dot{x} &=& -A\\omega_0\\sin{(\\omega_0t)}\\\\\n",
    "\\end{eqnarray*}\n"
   ]
  },
  {
   "cell_type": "code",
   "execution_count": 1,
   "id": "1af76516",
   "metadata": {},
   "outputs": [],
   "source": [
    "import matplotlib.pyplot as plt              # for ease of use\n",
    "import numpy as np                           # for the needed math functions\n",
    "\n",
    "plt.rcParams['figure.figsize'] = 12.5,10     # default plot size"
   ]
  },
  {
   "cell_type": "code",
   "execution_count": null,
   "id": "ce080945",
   "metadata": {},
   "outputs": [],
   "source": []
  }
 ],
 "metadata": {
  "kernelspec": {
   "display_name": "Python 3 (ipykernel)",
   "language": "python",
   "name": "python3"
  },
  "language_info": {
   "codemirror_mode": {
    "name": "ipython",
    "version": 3
   },
   "file_extension": ".py",
   "mimetype": "text/x-python",
   "name": "python",
   "nbconvert_exporter": "python",
   "pygments_lexer": "ipython3",
   "version": "3.9.12"
  }
 },
 "nbformat": 4,
 "nbformat_minor": 5
}
