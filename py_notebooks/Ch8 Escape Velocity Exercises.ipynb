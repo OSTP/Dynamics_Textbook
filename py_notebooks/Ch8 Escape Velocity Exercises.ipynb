{
 "cells": [
  {
   "cell_type": "markdown",
   "id": "8e99a80f",
   "metadata": {},
   "source": [
    "Escape velocity can be generalized from the function in Section 8.4 to:\n",
    "$$v_{esc} = \\sqrt{\\frac{2GM}{R}}$$\n",
    "Plot the escape velocity from the sun as a function of distance from\n",
    "the Sun (in astronomical units or au), using the values for the \n",
    "Sun's mass, $G$, and au given in Appendix A (or found online).\n",
    "What is the escape velocity at the Sun's surface, Earth's orbit, \n",
    "Neptune's orbit, and 1000 au?"
   ]
  },
  {
    "plt.rcParams['figure.figsize'] = 12.5,10     # default plot size"
  },
  {
   "cell_type": "code",
   "execution_count": null,
   "id": "ce080945",
   "metadata": {},
   "outputs": [],
   "source": []
  }
 ],
 "metadata": {
  "kernelspec": {
   "display_name": "Python 3 (ipykernel)",
   "language": "python",
   "name": "python3"
  },
  "language_info": {
   "codemirror_mode": {
    "name": "ipython",
    "version": 3
   },
   "file_extension": ".py",
   "mimetype": "text/x-python",
   "name": "python",
   "nbconvert_exporter": "python",
   "pygments_lexer": "ipython3",
   "version": "3.9.12"
  }
 },
 "nbformat": 4,
 "nbformat_minor": 5
}
